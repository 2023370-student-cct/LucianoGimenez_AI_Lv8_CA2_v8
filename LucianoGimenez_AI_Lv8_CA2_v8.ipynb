
1. A puzzle has multiple ways of reaching the end solution. Fig. 1 shows a graph that represents all possible routes to the solution. The starting point of the game is represented by A, the solution is represented by S. The other points in the graph are possible intermediary stages.

![Picture2.png](attachment:Picture2.png)

    a. The graph in Fig. 1 is a visualisation of the problem. 
        I. Identify the differences between a graph and a tree.
        II. Explain in detail how the graph is an abstraction of the problem.
        III. Identify the advantages of using a visualisation such as the one shown in Fig. 1.
    b. Demonstrate how Dijkstra’s algorithm would find the shortest path to the solution in Fig.1 through diagrams and written explanation of each stage.


2. The creator of the puzzle has been told that the A* algorithm is more efficient at finding the shortest path because it uses heuristics. Compare the performance of Dijkstra’s algorithm and the A* search algorithm, referring to heuristics, to find the shortest path to the problem by implementing both algorithms programmatically and comparing the solutions generated in Mark-down. Refer to the complexity of the algorithms and compare the actual time it takes for the solutions to be processed.


1. 
    a- 
        I-
        II-
        III-
    b-


### <span style="color:DodgerBlue"> A* and  Dijkstra’s algorithms </span>
___

<p style="color:SlateGrey">The creator of the puzzle has been told that the A* algorithm is more efficient at finding the shortest path because it uses heuristics. Compare the performance of Dijkstra’s algorithm and the A* search algorithm, referring to heuristics, to find the shortest path to the problem by implementing both algorithms programmatically and comparing the solutions generated in Mark-down. Refer to the complexity of the algorithms and compare the actual time it takes for the solutions to be processed.</p>

import time
import heapq
from collections import deque


adjacency_list = {
    'A': {'B': 1, 'C': 5, 'H': 2},
    'B': {'A': 1, 'C': 2, 'D': 4},
    'C': {'A': 5, 'B': 2, 'G': 1},
    'D': {'B': 4, 'E': 4, 'F': 7, 'L': 7},
    'E': {'D': 4, 'F': 3, 'W': 6},
    'F': {'D': 7, 'E': 3, 'G': 2},
    'G': {'C': 1, 'F': 2, 'L': 3},
    'H': {'A': 2, 'J': 9, 'K': 5},
    'J': {'H': 9, 'K': 3, 'N': 6},
    'K': {'H': 5, 'J': 3, 'L': 5},
    'L': {'D': 7, 'G': 3, 'K': 5, 'M': 4, 'N': 3, 'V': 10, 'W': 8},
    'M': {'L': 4, 'P': 2, 'Q': 10},
    'N': {'J': 6, 'L': 3, 'P': 4, 'S': 7},
    'P': {'M': 2, 'N': 4, 'R': 5},
    'Q': {'M': 10, 'S': 8, 'W': 4},
    'R': {'P': 5, 'S': 4, 'T': 3},
    'S': {'N': 7, 'Q': 8, 'R': 4, 'T': 4, 'U': 2, 'V': 6},
    'T': {'R': 3, 'S': 4, 'U': 1},
    'U': {'S': 2, 'T': 1, 'V': 3},
    'V': {'L': 10, 'S': 6, 'U': 3, 'W': 5},
    'W': {'E': 6, 'L': 8, 'Q': 4, 'V': 5},    
}

class Algorithms_implementation:

    def __init__(self, adjacency_list):
        self.adjacency_list = adjacency_list
        self.starting_time = 0
        self.stopping_time = 0
        self.time = 0
        
    def get_neighbors(self, v):
        return [(neighbor, weight) for neighbor, weight in self.adjacency_list[v].items()]
        
    def print_timer(self):
        self.time = self.stopping_time - self.starting_time
        print(f"Performed in {self.time} seconds")

    def h(self, n):
        H = {
            'A': 0, 
            'B': 1, 
            'C': 1.35, 
            'D': 3.4, 
            'E': 4.53,
            'F': 3.43, 
            'G': 2.3, 
            'H': 1.12, 
            'J': 3.94, 
            'K': 1.96,
            'L': 3.73, 
            'M': 5.5, 
            'N': 5.47, 
            'P': 6.99, 
            'Q': 5.81,
            'R': 8.12, 
            'S': 7.52, 
            'T': 8.97, 
            'U': 8.51, 
            'V': 6.98,
            'W': 5.43,
        }
        return H[n]

    def a_star_algorithm(self, start_node, stop_node):
        self.starting_time = time.perf_counter()
        
        open_list = set([start_node])
        closed_list = set([])
        g = {node: float('inf') for node in self.adjacency_list}
        g[start_node] = 0
        parents = {node: node for node in self.adjacency_list}

        while open_list:
            n = min(open_list, key=lambda node: g[node] + self.h(node))

            if n == stop_node:
                reconst_path = []
                while parents[n] != n:
                    reconst_path.append(n)
                    n = parents[n]
                reconst_path.append(start_node)
                reconst_path.reverse()

                print('A* Algorithm path: {}'.format(reconst_path))
                
                self.stopping_time = time.perf_counter()
                self.print_timer()
                
                return reconst_path

            for neighbor, weight in self.get_neighbors(n):
                tentative_g = g[n] + weight

                if tentative_g < g[neighbor]:
                    parents[neighbor] = n
                    g[neighbor] = tentative_g

                    if neighbor not in open_list and neighbor not in closed_list:
                        open_list.add(neighbor)

            open_list.remove(n)
            closed_list.add(n)
        
        self.stopping_time = time.perf_counter()
        self.print_timer()
        
        print('Path does not exist!')
        return None
    
    def dijkstra(self, starting_vertex, solution_vertex):
        self.starting_time = time.perf_counter()

        distances = {vertex: float('infinity') for vertex in self.adjacency_list}
        distances[starting_vertex] = 0
        
        parents = {vertex: None for vertex in self.adjacency_list}
        
        pq = [(0, starting_vertex)]
        while len(pq) > 0:
            current_distance, current_vertex = heapq.heappop(pq)
            
            if current_distance > distances[current_vertex]:
                continue

            for neighbor, weight in self.adjacency_list[current_vertex].items():
                distance = current_distance + weight
                #print(f"Vertex: {current_vertex} | Distance: {distance} | Neighbor: {neighbor}")
                
                if distance < distances[neighbor]:
                    distances[neighbor] = distance
                    heapq.heappush(pq, (distance, neighbor))
                    parents[neighbor] = current_vertex

        path = []
        current_node = solution_vertex
        while current_node is not None:
            path.append(current_node)
            current_node = parents[current_node]
        path.reverse()
        
        print(f"Dijkstra: {path} and cost: {distances[solution_vertex]}" )
        self.stopping_time = time.perf_counter()
        self.print_timer()
        return None

total_timer_a_star = 0
total_timer_dijkstra = 0
counter = 0
test1 = Algorithms_implementation(adjacency_list)
while counter < 1000:    
    
    test1.a_star_algorithm('A', 'S')
    total_timer_a_star = total_timer_a_star + test1.time
    
    test1.dijkstra('A', 'S')
    total_timer_dijkstra = total_timer_dijkstra +test1.time
    
    counter = counter + 1
    
print("total_timer_a_star: " + str(total_timer_a_star) + "seconds")
print("total_timer_dijkstra: " + str(total_timer_dijkstra) + "seconds")
